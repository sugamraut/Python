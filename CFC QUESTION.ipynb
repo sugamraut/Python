{
 "cells": [
  {
   "cell_type": "markdown",
   "id": "88579557-fecf-4fc6-9eb3-87c40e824003",
   "metadata": {},
   "source": [
    "### 1. Data Types & Input/Output\n",
    "Write a program that asks the user to input their name, age, and favorite programming language, then prints a meaningful sentence using all three."
   ]
  },
  {
   "cell_type": "code",
   "execution_count": 1,
   "id": "3a7a8fae-9c8d-4584-bc6b-d0f7c545caa2",
   "metadata": {},
   "outputs": [
    {
     "name": "stdin",
     "output_type": "stream",
     "text": [
      "Enter your name:  sugam\n",
      "Enter your age:  22\n",
      "Enter your favorite programming language:  React.js\n"
     ]
    },
    {
     "name": "stdout",
     "output_type": "stream",
     "text": [
      "Hello, sugam! You are 22 years old and you love React.js.\n"
     ]
    }
   ],
   "source": [
    "name = input(\"Enter your name: \")\n",
    "age = input(\"Enter your age: \")\n",
    "language = input(\"Enter your favorite programming language: \")\n",
    "\n",
    "print(f\"Hello, {name}! You are {age} years old and you love {language}.\")\n"
   ]
  },
  {
   "cell_type": "markdown",
   "id": "3244bc9b-2ed1-4664-9bdb-fb24e5b2ce48",
   "metadata": {},
   "source": [
    "###  2. Conditions\n",
    "Write a Python program that checks whether a given number is:\n",
    "Even or odd\n",
    "Positive, negative, or zero"
   ]
  },
  {
   "cell_type": "code",
   "execution_count": 3,
   "id": "b299214b-5cb8-4500-8e0a-1d23e11db87a",
   "metadata": {},
   "outputs": [
    {
     "name": "stdin",
     "output_type": "stream",
     "text": [
      "Enter a number:  6\n"
     ]
    },
    {
     "name": "stdout",
     "output_type": "stream",
     "text": [
      "The number is even.\n",
      "The number is positive.\n"
     ]
    }
   ],
   "source": [
    "num = float(input(\"Enter a number: \"))\n",
    "\n",
    "# Even or Odd\n",
    "if num % 2 == 0:\n",
    "    print(\"The number is even.\")\n",
    "else:\n",
    "    print(\"The number is odd.\")\n",
    "\n",
    "# Positive, Negative, or Zero\n",
    "if num > 0:\n",
    "    print(\"The number is positive.\")\n",
    "elif num < 0:\n",
    "    print(\"The number is negative.\")\n",
    "else:\n",
    "    print(\"The number is zero.\")\n"
   ]
  },
  {
   "cell_type": "markdown",
   "id": "78d6aaab-e602-4ae3-b302-bbd5ae565bb9",
   "metadata": {},
   "source": [
    "### 3. Loops\n",
    "Write a Python program that prints all numbers from 1 to 100 that are divisible by 3 but not divisible by 5."
   ]
  },
  {
   "cell_type": "code",
   "execution_count": 4,
   "id": "9aef890d-ea56-431c-8a91-cfdea5a5a7ed",
   "metadata": {},
   "outputs": [
    {
     "name": "stdout",
     "output_type": "stream",
     "text": [
      "Numbers from 1 to 100 that are divisible by 3 but not by 5:\n",
      "3\n",
      "6\n",
      "9\n",
      "12\n",
      "18\n",
      "21\n",
      "24\n",
      "27\n",
      "33\n",
      "36\n",
      "39\n",
      "42\n",
      "48\n",
      "51\n",
      "54\n",
      "57\n",
      "63\n",
      "66\n",
      "69\n",
      "72\n",
      "78\n",
      "81\n",
      "84\n",
      "87\n",
      "93\n",
      "96\n",
      "99\n"
     ]
    }
   ],
   "source": [
    "print(\"Numbers from 1 to 100 that are divisible by 3 but not by 5:\")\n",
    "for i in range(1, 101):\n",
    "    if i % 3 == 0 and i % 5 != 0:\n",
    "        print(i)\n"
   ]
  },
  {
   "cell_type": "markdown",
   "id": "03172bc3-836c-4af4-ba4c-f375e0f067cc",
   "metadata": {},
   "source": [
    "### 4. Functions\n",
    "Write a function named is_prime(n)that checks whether the given number is a prime number. Then, ask the user to input three numbers and use the function to check each."
   ]
  },
  {
   "cell_type": "code",
   "execution_count": 5,
   "id": "0273acd8-bb41-48ee-b9f8-f0d4d73245de",
   "metadata": {},
   "outputs": [
    {
     "name": "stdin",
     "output_type": "stream",
     "text": [
      "Enter a number:  5\n"
     ]
    },
    {
     "name": "stdout",
     "output_type": "stream",
     "text": [
      "5 is a prime number.\n"
     ]
    },
    {
     "name": "stdin",
     "output_type": "stream",
     "text": [
      "Enter a number:  6\n"
     ]
    },
    {
     "name": "stdout",
     "output_type": "stream",
     "text": [
      "6 is not a prime number.\n"
     ]
    },
    {
     "name": "stdin",
     "output_type": "stream",
     "text": [
      "Enter a number:  1\n"
     ]
    },
    {
     "name": "stdout",
     "output_type": "stream",
     "text": [
      "1 is not a prime number.\n"
     ]
    }
   ],
   "source": [
    "def is_prime(n):\n",
    "    if n <= 1:\n",
    "        return False\n",
    "    for i in range(2, int(n**0.5) + 1):\n",
    "        if n % i == 0:\n",
    "            return False\n",
    "    return True\n",
    "\n",
    "for _ in range(3):\n",
    "    num = int(input(\"Enter a number: \"))\n",
    "    if is_prime(num):\n",
    "        print(f\"{num} is a prime number.\")\n",
    "    else:\n",
    "        print(f\"{num} is not a prime number.\")\n"
   ]
  },
  {
   "cell_type": "markdown",
   "id": "895f22a3-5c69-46e8-b0c1-8412732f37d4",
   "metadata": {},
   "source": [
    "### 5. String Manipulation\n",
    "Write a program that takes a string input from the user and performs the following:\n",
    "Prints the string in reverse\n",
    "Converts the string to uppercase\n",
    "Counts the number of vowels in the string"
   ]
  },
  {
   "cell_type": "code",
   "execution_count": 6,
   "id": "21be25ef-6d13-478f-ad7e-7f63caf0bb99",
   "metadata": {},
   "outputs": [
    {
     "name": "stdin",
     "output_type": "stream",
     "text": [
      "Enter a string:  hello\n"
     ]
    },
    {
     "name": "stdout",
     "output_type": "stream",
     "text": [
      "Reversed string: olleh\n",
      "Uppercase string: HELLO\n",
      "Number of vowels: 2\n"
     ]
    }
   ],
   "source": [
    "text = input(\"Enter a string: \")\n",
    "\n",
    "# Reverse\n",
    "print(\"Reversed string:\", text[::-1])\n",
    "\n",
    "# Uppercase\n",
    "print(\"Uppercase string:\", text.upper())\n",
    "\n",
    "# Count vowels\n",
    "vowels = \"aeiouAEIOU\"\n",
    "count = sum(1 for char in text if char in vowels)\n",
    "print(\"Number of vowels:\", count)\n"
   ]
  },
  {
   "cell_type": "code",
   "execution_count": null,
   "id": "d46a1d82-1817-44e4-84db-8bf9aea256d4",
   "metadata": {},
   "outputs": [],
   "source": []
  }
 ],
 "metadata": {
  "kernelspec": {
   "display_name": "Python 3 (ipykernel)",
   "language": "python",
   "name": "python3"
  },
  "language_info": {
   "codemirror_mode": {
    "name": "ipython",
    "version": 3
   },
   "file_extension": ".py",
   "mimetype": "text/x-python",
   "name": "python",
   "nbconvert_exporter": "python",
   "pygments_lexer": "ipython3",
   "version": "3.13.1"
  }
 },
 "nbformat": 4,
 "nbformat_minor": 5
}
