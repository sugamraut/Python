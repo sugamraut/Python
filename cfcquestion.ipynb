{
 "cells": [
  {
   "cell_type": "markdown",
   "id": "4594a45d-d311-48f0-9691-e830a56f26b9",
   "metadata": {},
   "source": [
    "### 1. Even or Odd Checker"
   ]
  },
  {
   "cell_type": "code",
   "execution_count": 10,
   "id": "aba96b63-f472-4402-a7f9-d96de641447b",
   "metadata": {},
   "outputs": [
    {
     "data": {
      "text/plain": [
       "'Odd'"
      ]
     },
     "execution_count": 10,
     "metadata": {},
     "output_type": "execute_result"
    }
   ],
   "source": [
    "def even_or_odd(num):\n",
    "    return \"Even\" if num % 2 == 0 else \"Odd\"\n",
    "even_or_odd(3)"
   ]
  },
  {
   "cell_type": "markdown",
   "id": "ab27cfd4-e3b5-469b-b778-16cb360705aa",
   "metadata": {},
   "source": [
    "### 2. Basic Calculator"
   ]
  },
  {
   "cell_type": "code",
   "execution_count": 27,
   "id": "8a017d36-a664-461d-bd46-5c905ff0d28a",
   "metadata": {},
   "outputs": [
    {
     "name": "stdout",
     "output_type": "stream",
     "text": [
      "6\n",
      "2\n",
      "8\n",
      "0.5\n"
     ]
    }
   ],
   "source": [
    "def basic_calculator(a, b, operator):\n",
    "    if operator == '+':\n",
    "        return a + b\n",
    "    elif operator == '-':\n",
    "        return a - b\n",
    "    elif operator == '*':\n",
    "        return a * b\n",
    "    elif operator == '/':\n",
    "        return a / b if b != 0 else \"Cannot divide by zero\"\n",
    "    else:\n",
    "        return \"Invalid operator\"\n",
    "print(basic_calculator(2,4,'+'))\n",
    "print(basic_calculator(4,2,'-'))\n",
    "print(basic_calculator(2,4,'*'))\n",
    "print(basic_calculator(2,4,'/'))"
   ]
  },
  {
   "cell_type": "markdown",
   "id": "f52dab22-e702-4665-b7be-d494c80005a9",
   "metadata": {},
   "source": [
    "### 3. Maximum of Three Numbers"
   ]
  },
  {
   "cell_type": "code",
   "execution_count": 17,
   "id": "668e4585-7639-4529-9dc1-4c9ca30d56d9",
   "metadata": {},
   "outputs": [
    {
     "data": {
      "text/plain": [
       "10"
      ]
     },
     "execution_count": 17,
     "metadata": {},
     "output_type": "execute_result"
    }
   ],
   "source": [
    "def max_of_three(a, b, c):\n",
    "    return max(a, b, c)\n",
    "max_of_three(2,5,10)"
   ]
  },
  {
   "cell_type": "markdown",
   "id": "d8f55b7c-70e0-4198-aa98-6c07c0dce64e",
   "metadata": {},
   "source": [
    "### 4. Vowel Counter\n"
   ]
  },
  {
   "cell_type": "code",
   "execution_count": 25,
   "id": "23f3e5d3-d046-4011-903c-3d7c756e894d",
   "metadata": {},
   "outputs": [
    {
     "name": "stdout",
     "output_type": "stream",
     "text": [
      "3\n"
     ]
    }
   ],
   "source": [
    "def count_vowels(s):\n",
    "    vowels = 'aeiouAEIOU'\n",
    "    return sum(1 for char in s if char in vowels)\n",
    "print(count_vowels(\"Hello World\"))"
   ]
  },
  {
   "cell_type": "markdown",
   "id": "20d8aa85-9052-4bcf-99ff-276ea821d014",
   "metadata": {},
   "source": [
    "### 5. Positive Numbers Filter"
   ]
  },
  {
   "cell_type": "code",
   "execution_count": 24,
   "id": "0d8d4582-3225-4184-ab09-086603d94d7a",
   "metadata": {},
   "outputs": [
    {
     "name": "stdout",
     "output_type": "stream",
     "text": [
      "[4, 7]\n"
     ]
    }
   ],
   "source": [
    "def filter_positive(numbers):\n",
    "    return [num for num in numbers if num > 0]\n",
    "print(filter_positive([-2, 0, 4, 7, -1]))"
   ]
  },
  {
   "cell_type": "markdown",
   "id": "ecb50dee-02d9-4f27-a570-56715cac6c83",
   "metadata": {},
   "source": [
    "### 6. Factorial Finder"
   ]
  },
  {
   "cell_type": "code",
   "execution_count": 28,
   "id": "80853df7-9af6-4a3c-9482-d233eb7da8dd",
   "metadata": {},
   "outputs": [
    {
     "name": "stdout",
     "output_type": "stream",
     "text": [
      "120\n"
     ]
    }
   ],
   "source": [
    "def factorial(n):\n",
    "    result = 1\n",
    "    for i in range(2, n+1):\n",
    "        result *= i\n",
    "    return result\n",
    "\n",
    "print(factorial(5))  # Output: 120\n"
   ]
  },
  {
   "cell_type": "markdown",
   "id": "87523d20-99d5-4c94-b622-e98b4ab8c503",
   "metadata": {},
   "source": [
    "### 7. Palindrome Checker"
   ]
  },
  {
   "cell_type": "code",
   "execution_count": 30,
   "id": "48577304-61eb-4fe6-b3a3-88d3118f1efb",
   "metadata": {},
   "outputs": [
    {
     "name": "stdout",
     "output_type": "stream",
     "text": [
      "True\n"
     ]
    }
   ],
   "source": [
    "def is_palindrome(s):\n",
    "    s = s.lower().replace(\" \", \"\")\n",
    "    return s == s[::-1]\n",
    "\n",
    "print(is_palindrome(\"Madam\"))  # Output: True\n"
   ]
  },
  {
   "cell_type": "markdown",
   "id": "58e35933-5977-4ed5-b88f-db7185ddc0cd",
   "metadata": {},
   "source": [
    "### 8. Pattern Printer"
   ]
  },
  {
   "cell_type": "code",
   "execution_count": 31,
   "id": "22127767-15b2-4d20-b375-2864857406e9",
   "metadata": {},
   "outputs": [
    {
     "name": "stdout",
     "output_type": "stream",
     "text": [
      "*\n",
      "**\n",
      "***\n",
      "****\n",
      "*****\n"
     ]
    }
   ],
   "source": [
    "def print_pattern(n):\n",
    "    for i in range(1, n+1):\n",
    "        print('*' * i)\n",
    "\n",
    "print_pattern(5)\n",
    "# Output:\n",
    "# *\n",
    "# **\n",
    "# ***\n",
    "# ****\n",
    "# *****\n"
   ]
  },
  {
   "cell_type": "markdown",
   "id": "f5070aea-d8e1-428e-adcb-c69b45a1332a",
   "metadata": {},
   "source": [
    "### 9. Sum of List Elements"
   ]
  },
  {
   "cell_type": "code",
   "execution_count": 32,
   "id": "a8cef75c-1707-4576-931f-b982fb1f634d",
   "metadata": {},
   "outputs": [
    {
     "name": "stdout",
     "output_type": "stream",
     "text": [
      "10\n"
     ]
    }
   ],
   "source": [
    "def sum_list(lst):\n",
    "    return sum(lst)\n",
    "\n",
    "print(sum_list([1, 2, 3, 4]))  # Output: 10\n"
   ]
  },
  {
   "cell_type": "markdown",
   "id": "5947cec3-7994-49e2-af1a-3a5a00cac9c8",
   "metadata": {},
   "source": [
    "### 10. Custom Greeting Function"
   ]
  },
  {
   "cell_type": "code",
   "execution_count": 34,
   "id": "4d942c67-b729-4ff8-9e4b-0ca70a5a31c0",
   "metadata": {},
   "outputs": [
    {
     "name": "stdout",
     "output_type": "stream",
     "text": [
      "Good evening, sugam!\n"
     ]
    }
   ],
   "source": [
    "def greet(name, time):\n",
    "    greetings = {\n",
    "        \"morning\": \"Good morning\",\n",
    "        \"afternoon\": \"Good afternoon\",\n",
    "        \"evening\": \"Good evening\"\n",
    "    }\n",
    "    return f\"{greetings.get(time.lower(), 'Hello')}, {name}!\"\n",
    "\n",
    "print(greet(\"sugam\", \"evening\"))  # Output: Good evening, John!\n"
   ]
  },
  {
   "cell_type": "code",
   "execution_count": null,
   "id": "92c3b917-6342-4b95-9e20-4d4f37503dce",
   "metadata": {},
   "outputs": [],
   "source": []
  }
 ],
 "metadata": {
  "kernelspec": {
   "display_name": "Python 3 (ipykernel)",
   "language": "python",
   "name": "python3"
  },
  "language_info": {
   "codemirror_mode": {
    "name": "ipython",
    "version": 3
   },
   "file_extension": ".py",
   "mimetype": "text/x-python",
   "name": "python",
   "nbconvert_exporter": "python",
   "pygments_lexer": "ipython3",
   "version": "3.13.1"
  }
 },
 "nbformat": 4,
 "nbformat_minor": 5
}
