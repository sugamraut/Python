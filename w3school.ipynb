{
 "cells": [
  {
   "cell_type": "code",
   "execution_count": 7,
   "id": "281a1f65-037c-4fdf-9f08-804aee267e9a",
   "metadata": {},
   "outputs": [
    {
     "name": "stdout",
     "output_type": "stream",
     "text": [
      "5\n",
      "jhone\n",
      "<class 'int'>\n",
      "<class 'str'>\n",
      "5\n",
      "6\n"
     ]
    }
   ],
   "source": [
    "# carting\n",
    "x=5\n",
    "y= \"jhone\"\n",
    "print(x)\n",
    "print(y)\n",
    "print(type(x))\n",
    "print(type(y))\n",
    "a=5\n",
    "A=6\n",
    "print(a)\n",
    "print(A)\n",
    "\n"
   ]
  },
  {
   "cell_type": "code",
   "execution_count": 8,
   "id": "f3529524-2044-4bb5-a607-852b301032e9",
   "metadata": {},
   "outputs": [
    {
     "name": "stdout",
     "output_type": "stream",
     "text": [
      "orange\n",
      "Banaana\n",
      "cherry\n"
     ]
    }
   ],
   "source": [
    "#Assign Multiple value\n",
    "x,y,z = \"orange\",\"Banaana\",\"cherry\"\n",
    "print(x)\n",
    "print(y)\n",
    "print(z)"
   ]
  },
  {
   "cell_type": "code",
   "execution_count": 9,
   "id": "76cbe7e2-07b0-4dc9-ab71-124de8fabfc2",
   "metadata": {},
   "outputs": [
    {
     "name": "stdout",
     "output_type": "stream",
     "text": [
      "Orange\n",
      "Orange\n",
      "Orange\n"
     ]
    }
   ],
   "source": [
    "# One valye to multiple variables\n",
    "x=y=z=\"Orange\"\n",
    "print(x)\n",
    "print(y)\n",
    "print(z)"
   ]
  },
  {
   "cell_type": "code",
   "execution_count": 16,
   "id": "e9d67299-3ee7-41bc-8791-e857d8ca33a7",
   "metadata": {},
   "outputs": [
    {
     "name": "stdout",
     "output_type": "stream",
     "text": [
      "pythonisawsome\n"
     ]
    }
   ],
   "source": [
    "# + operater\n",
    "x=\"python\"\n",
    "y=\"is\"\n",
    "z= \"awsome\"\n",
    "\n",
    "print(x +y+ z)\n"
   ]
  },
  {
   "cell_type": "code",
   "execution_count": 17,
   "id": "ff574107-6cec-464f-bfe8-d8e390742974",
   "metadata": {},
   "outputs": [
    {
     "name": "stdout",
     "output_type": "stream",
     "text": [
      "30\n",
      "40\n"
     ]
    }
   ],
   "source": [
    "# GLobal varible\n",
    "x=30\n",
    "def foo():\n",
    "    global x\n",
    "    x=40\n",
    "print (x)\n",
    "foo()\n",
    "print(x)"
   ]
  },
  {
   "cell_type": "code",
   "execution_count": 12,
   "id": "2f159312-2e66-47d2-8257-fe66bc51ec16",
   "metadata": {},
   "outputs": [],
   "source": [
    "x=memoryview(bytes(5))"
   ]
  },
  {
   "cell_type": "code",
   "execution_count": 19,
   "id": "c269a0da-6571-4506-b6a7-10fb74cac3fb",
   "metadata": {},
   "outputs": [
    {
     "name": "stdout",
     "output_type": "stream",
     "text": [
      "<class 'int'>\n",
      "<class 'float'>\n",
      "<class 'complex'>\n"
     ]
    }
   ],
   "source": [
    "x=1\n",
    "y=2.8\n",
    "z=1J\n",
    "print(type(x))\n",
    "print(type(y))\n",
    "print(type(z))\n",
    "      "
   ]
  },
  {
   "cell_type": "code",
   "execution_count": 21,
   "id": "77294dd0-6104-4f21-bf77-7ccdcaa03cd3",
   "metadata": {},
   "outputs": [
    {
     "name": "stdout",
     "output_type": "stream",
     "text": [
      "1.0\n",
      "2\n",
      "(1+0j)\n",
      "<class 'float'>\n",
      "<class 'int'>\n",
      "<class 'complex'>\n",
      "11\n"
     ]
    }
   ],
   "source": [
    "#type conversion\n",
    "x=1\n",
    "y=2.7\n",
    "z=1j\n",
    "a=float(x)\n",
    "b=int(y)\n",
    "c=complex(x)\n",
    "print(a)\n",
    "print(b)\n",
    "print(c)\n",
    "\n",
    "print(type(a))\n",
    "print(type(b))\n",
    "print(type(c))\n",
    "\n",
    "#Random Number\n",
    "import random\n",
    "print (random.randrange(1,20))"
   ]
  },
  {
   "cell_type": "markdown",
   "id": "1f8e249b-f867-47cc-8d63-7fbbdbb6c39a",
   "metadata": {},
   "source": [
    "## string"
   ]
  },
  {
   "cell_type": "code",
   "execution_count": 26,
   "id": "bc5a66d7-c540-4f3a-9083-aaca33417fff",
   "metadata": {},
   "outputs": [
    {
     "name": "stdout",
     "output_type": "stream",
     "text": [
      "11\n",
      "True\n",
      "llo\n",
      "hello\n",
      "llo world\n",
      "wo\n"
     ]
    }
   ],
   "source": [
    "#pnrint length\n",
    "a= \"hello world\"\n",
    "print (len(a))\n",
    "\n",
    "txt=\"the best things in life are free!!\"\n",
    "print(\"free\" in txt)\n",
    "\n",
    "# Slicing\n",
    "\n",
    "b=\"hello world\"\n",
    "print(b[2:5])\n",
    "print (b[:5])\n",
    "print(b[2:])\n",
    "print(b[-5:-3])"
   ]
  },
  {
   "cell_type": "markdown",
   "id": "1acd17ce-e56f-4734-81a4-9e2f0a44611b",
   "metadata": {},
   "source": [
    "### string Modify\n"
   ]
  },
  {
   "cell_type": "code",
   "execution_count": 34,
   "id": "2b945330-cf67-4917-b428-65945e59d89c",
   "metadata": {},
   "outputs": [
    {
     "name": "stdout",
     "output_type": "stream",
     "text": [
      "HELLO ,WORLD\n",
      "hello ,world\n",
      "hello, world!\n",
      "replace world\tjello ,world\n"
     ]
    }
   ],
   "source": [
    "a= \"hello ,world\"\n",
    "print (a.upper())\n",
    "print( a.lower())\n",
    "b=\"hello, world!\"\n",
    "print(b.strip())\n",
    "print (\"replace world\\t\"+a.replace(\"h\",\"j\"))\n"
   ]
  },
  {
   "cell_type": "code",
   "execution_count": 36,
   "id": "889e4111-f991-4258-9612-1ee61daca584",
   "metadata": {},
   "outputs": [
    {
     "name": "stdout",
     "output_type": "stream",
     "text": [
      "hello world\n"
     ]
    }
   ],
   "source": [
    "#concetation \n",
    "a=\"hello\"\n",
    "b=\"world\"\n",
    "c=a+\" \"+b\n",
    "print(c)"
   ]
  },
  {
   "cell_type": "markdown",
   "id": "1f8503d5-673b-4357-b65c-e3d4f6e0390b",
   "metadata": {},
   "source": [
    "### F-String"
   ]
  },
  {
   "cell_type": "code",
   "execution_count": 40,
   "id": "3f0d5dee-da03-41ce-a15c-dd0e3a2fde77",
   "metadata": {},
   "outputs": [
    {
     "name": "stdout",
     "output_type": "stream",
     "text": [
      "My name is jhone,I am 36\n",
      "this price is 36.00 dollars\n"
     ]
    }
   ],
   "source": [
    "age=36\n",
    "txt =f\"My name is jhone,I am {age}\"\n",
    "print (txt)\n",
    "hi= f\"this price is {age:.2f} dollars\"\n",
    "print (hi)"
   ]
  },
  {
   "cell_type": "code",
   "execution_count": 3,
   "id": "d50c68c6-d2f0-4dd4-b34e-d6559aa52217",
   "metadata": {},
   "outputs": [
    {
     "name": "stdout",
     "output_type": "stream",
     "text": [
      "True\n",
      "False\n",
      "False\n",
      "b is not greater than a\n",
      "True\n",
      "True\n"
     ]
    }
   ],
   "source": [
    "#Boolean values\n",
    "print (10>9)\n",
    "print(10==9)\n",
    "print(10<9)\n",
    "\n",
    "a=200\n",
    "b=33\n",
    "\n",
    "if b>a:\n",
    "    print(\"b is greater than a\")\n",
    "else:\n",
    "    print(\"b is not greater than a\")\n",
    "\n",
    "print (bool(\"hello\"))\n",
    "print(bool(15))"
   ]
  },
  {
   "cell_type": "markdown",
   "id": "8abae9c2-bffb-41e5-bf7b-7711c779d921",
   "metadata": {},
   "source": [
    "### python List"
   ]
  },
  {
   "cell_type": "code",
   "execution_count": 8,
   "id": "5aef8f9f-e19e-4eb1-b091-ce8a084ddcf1",
   "metadata": {},
   "outputs": [
    {
     "name": "stdout",
     "output_type": "stream",
     "text": [
      "['apple', 'banana', 'cheery', 'kiwi', 'melon', 'mango']\n",
      "6\n",
      "banana\n",
      "['cheery', 'kiwi', 'melon']\n"
     ]
    }
   ],
   "source": [
    "mylist =[\"apple\",\"banana\",\"cheery\",\"kiwi\",\"melon\",\"mango\"]\n",
    "print(mylist)\n",
    "print(len(mylist))\n",
    "print(mylist[1])\n",
    "print(mylist[2:5])"
   ]
  },
  {
   "cell_type": "markdown",
   "id": "04568411-841a-443c-83c0-38a3f3335c2b",
   "metadata": {},
   "source": [
    "#### Change item value"
   ]
  },
  {
   "cell_type": "code",
   "execution_count": 17,
   "id": "305e3b7e-382a-49f5-8487-ac8e102a2db0",
   "metadata": {},
   "outputs": [
    {
     "name": "stdout",
     "output_type": "stream",
     "text": [
      "['apple', 'cherry', 'orange', 'kiwi', 'mango', 'orange', 'mango', 'pineapple', 'papaya']\n"
     ]
    }
   ],
   "source": [
    "thislist=[\"apple\",\"banana\",\"cherry\",\"orange\",\"kiwi\",\"mango\"]\n",
    "tropical = [\"mango\", \"pineapple\", \"papaya\"]\n",
    "#thislist[1:3]=\"blackcurrant\"\n",
    "thislist.append(\"orange\")\n",
    "thislist.extend(tropical)\n",
    "thislist.pop(1)\n",
    "#thislist[1:3]=[\"hello\",\"watermelon\"]\n",
    "print(thislist)"
   ]
  },
  {
   "cell_type": "code",
   "execution_count": 18,
   "id": "33cd6ac7-1f9c-4b55-bc1a-6cc38cb73b3e",
   "metadata": {},
   "outputs": [
    {
     "name": "stdout",
     "output_type": "stream",
     "text": [
      "apple\n",
      "banana\n",
      "cherry\n"
     ]
    }
   ],
   "source": [
    "thislist=[\"apple\",\"banana\",\"cherry\"]\n",
    "i=0\n",
    "while i <len(thislist):\n",
    "    print(thislist[i])\n",
    "    i=i+1"
   ]
  },
  {
   "cell_type": "code",
   "execution_count": 19,
   "id": "fae4e0e1-4cd1-43d7-b645-da91950b470d",
   "metadata": {},
   "outputs": [
    {
     "name": "stdout",
     "output_type": "stream",
     "text": [
      "['apple', 'banana', 'mango']\n"
     ]
    }
   ],
   "source": [
    "fruits = [\"apple\", \"banana\", \"cherry\", \"kiwi\", \"mango\"]\n",
    "newlist = []\n",
    "\n",
    "for x in fruits:\n",
    "  if \"a\" in x:\n",
    "    newlist.append(x)\n",
    "\n",
    "print(newlist)"
   ]
  },
  {
   "cell_type": "code",
   "execution_count": 20,
   "id": "8c783ab7-c3e9-4f75-bcb5-a5dfaf11d876",
   "metadata": {},
   "outputs": [
    {
     "name": "stdout",
     "output_type": "stream",
     "text": [
      "[50, 65, 23, 82, 100]\n"
     ]
    }
   ],
   "source": [
    "def myfunc(n):\n",
    "  return abs(n - 50)\n",
    "\n",
    "thislist = [100, 50, 65, 82, 23]\n",
    "thislist.sort(key = myfunc)\n",
    "print(thislist)"
   ]
  },
  {
   "cell_type": "code",
   "execution_count": 25,
   "id": "7118eefc-a264-4cb2-9b60-c1215c9a2853",
   "metadata": {},
   "outputs": [
    {
     "name": "stdout",
     "output_type": "stream",
     "text": [
      "['a', 'b', 'c', 1, 2, 3]\n"
     ]
    }
   ],
   "source": [
    "list1 = [\"a\", \"b\", \"c\"]\n",
    "list2 = [1, 2, 3]\n",
    "\n",
    "list3 = list1+list2\n",
    "print(list3)\n"
   ]
  },
  {
   "cell_type": "markdown",
   "id": "29d1e8d4-fb9d-40c0-ac3d-38ebb7646eec",
   "metadata": {},
   "source": [
    "### for loop for patten\n"
   ]
  },
  {
   "cell_type": "code",
   "execution_count": 1,
   "id": "895abd2a-4083-403b-87e1-3f73e134ebf3",
   "metadata": {},
   "outputs": [
    {
     "name": "stdout",
     "output_type": "stream",
     "text": [
      "\n",
      "1 \n",
      "2 2 \n",
      "3 3 3 \n",
      "4 4 4 4 \n",
      "5 5 5 5 5 \n"
     ]
    }
   ],
   "source": [
    "#1\n",
    "#22\n",
    "#333\n",
    "#4444\n",
    "#55555\n",
    "\n",
    "row=6\n",
    "for i in range(row):\n",
    "    for j in range(i):\n",
    "        print(i, end=' ')\n",
    "    print('')"
   ]
  },
  {
   "cell_type": "code",
   "execution_count": 2,
   "id": "0f9a60f6-6040-4f60-916d-a7f76a75ad66",
   "metadata": {},
   "outputs": [
    {
     "name": "stdout",
     "output_type": "stream",
     "text": [
      "\n",
      "\n",
      "1 \n",
      "1 2 \n",
      "1 2 3 \n",
      "1 2 3 4 \n"
     ]
    }
   ],
   "source": [
    "#1\n",
    "#12\n",
    "#123\n",
    "#1234\n",
    "#1234\n",
    "row=6\n",
    "for i in range(row):\n",
    "    for j in range(1,i):\n",
    "        print(j,end=' ')\n",
    "    print('')\n"
   ]
  },
  {
   "cell_type": "code",
   "execution_count": 14,
   "id": "5367e54b-8201-4055-b9a7-0920830f7f8e",
   "metadata": {},
   "outputs": [
    {
     "name": "stdout",
     "output_type": "stream",
     "text": [
      "1 1 1 1 1 \n",
      "2 2 2 2 \n",
      "3 3 3 \n",
      "4 4 \n",
      "5 \n",
      "\n"
     ]
    }
   ],
   "source": [
    "#11111\n",
    "#2222\n",
    "#333\n",
    "#44\n",
    "#5\n",
    "row =6\n",
    "b=0\n",
    "for i in range(row,0,-1):\n",
    "    b+=1\n",
    "    for j in range(1,i):\n",
    "         print(b, end=' ')\n",
    "    print('\\r')\n"
   ]
  },
  {
   "cell_type": "code",
   "execution_count": 17,
   "id": "d52c914f-fc37-43da-a3ca-7c80af6057c4",
   "metadata": {},
   "outputs": [
    {
     "name": "stdout",
     "output_type": "stream",
     "text": [
      "5 5 5 5 5 \n",
      "5 5 5 5 \n",
      "5 5 5 \n",
      "5 5 \n",
      "5 \n"
     ]
    }
   ],
   "source": [
    "#55555\n",
    "#5555\n",
    "#555\n",
    "#55\n",
    "#5\n",
    "row= 5\n",
    "number=row\n",
    "for i in range( row,0,-1):\n",
    "    for j in range(0,i):\n",
    "        print(number,end=' ')\n",
    "    print(\"\\r\")"
   ]
  },
  {
   "cell_type": "code",
   "execution_count": 27,
   "id": "fa52e641-4327-4443-bbf9-02c9121cc577",
   "metadata": {},
   "outputs": [
    {
     "name": "stdout",
     "output_type": "stream",
     "text": [
      "0 1 2 3 4 5 \n",
      "0 1 2 3 4 \n",
      "0 1 2 3 \n",
      "0 1 2 \n",
      "0 1 \n",
      "0 \n"
     ]
    }
   ],
   "source": [
    "#012345\n",
    "#01234\n",
    "#0123\n",
    "#012\n",
    "#01\n",
    "row=6\n",
    "for i in range(row,0,-1):\n",
    "    for j in range(i):\n",
    "        print(j,end=' ')\n",
    "    print(\"\\r\")\n",
    "    "
   ]
  },
  {
   "cell_type": "code",
   "execution_count": 4,
   "id": "8d44a17f-1478-461a-8dc6-d5f879833554",
   "metadata": {},
   "outputs": [
    {
     "name": "stdout",
     "output_type": "stream",
     "text": [
      "1 \n",
      "3 3 \n",
      "5 5 5 \n",
      "7 7 7 7 \n",
      "9 9 9 9 9 \n"
     ]
    }
   ],
   "source": [
    "#1\n",
    "#33\n",
    "#555\n",
    "#7777\n",
    "#99999\n",
    "rows = 5\n",
    "i = 1\n",
    "while i <= rows:\n",
    "    j = 1\n",
    "    while j <= i:\n",
    "        print((i * 2 - 1), end=\" \")\n",
    "        j = j + 1\n",
    "    i = i + 1\n",
    "    print('')\n"
   ]
  },
  {
   "cell_type": "code",
   "execution_count": 16,
   "id": "5d153a38-9ad6-4bdd-b6ba-1653c618bdfe",
   "metadata": {},
   "outputs": [
    {
     "name": "stdout",
     "output_type": "stream",
     "text": [
      "55555\n",
      "4444\n",
      "333\n",
      "22\n",
      "1\n"
     ]
    }
   ],
   "source": [
    "#55555\n",
    "#4444\n",
    "#333\n",
    "#22\n",
    "#1\n",
    "\n",
    "row=5\n",
    "for i in range(row,0,-1):\n",
    "    for j in range(i):\n",
    "        print(i,end='')\n",
    "    print(\"\\r\")\n"
   ]
  },
  {
   "cell_type": "code",
   "execution_count": 9,
   "id": "bbb50256-d59f-4c49-a402-75121bc2ebc1",
   "metadata": {},
   "outputs": [
    {
     "name": "stdout",
     "output_type": "stream",
     "text": [
      "\n",
      "1\n",
      "21\n",
      "321\n",
      "4321\n",
      "54321\n"
     ]
    }
   ],
   "source": [
    "#1\n",
    "#21\n",
    "#321\n",
    "#4321\n",
    "#54321\n",
    "\n",
    "row=6\n",
    "for i in range(row):\n",
    "    for j in range(i,0,-1):\n",
    "        print(j,end='')\n",
    "    print(\"\")\n"
   ]
  },
  {
   "cell_type": "code",
   "execution_count": 11,
   "id": "d226d253-c850-4f53-b92d-a2dd6285ce6c",
   "metadata": {},
   "outputs": [
    {
     "name": "stdout",
     "output_type": "stream",
     "text": [
      "54321\n",
      "4321\n",
      "321\n",
      "21\n",
      "1\n"
     ]
    }
   ],
   "source": [
    "#54321\n",
    "#4321\n",
    "#321\n",
    "#21\n",
    "#1\n",
    "row=5\n",
    "for i in range(row,0,-1):\n",
    "    for j in range(i,0,-1):\n",
    "        print(j,end='')\n",
    "    print(\"\")"
   ]
  },
  {
   "cell_type": "code",
   "execution_count": 18,
   "id": "678dda39-49bf-47f8-83a0-8b225cf43b16",
   "metadata": {},
   "outputs": [
    {
     "name": "stdout",
     "output_type": "stream",
     "text": [
      "1\n",
      "3\n",
      "6\n",
      "10\n",
      "1 \n",
      "3 2 \n",
      "6 5 4 \n",
      "10 9 8 7 \n"
     ]
    }
   ],
   "source": [
    "row=4\n",
    "current=1\n",
    "for i in range(1,row+1):\n",
    "    start=current+i-1\n",
    "    for j in range(start,start-1,-1):\n",
    "        print(j,end='')\n",
    "    print(\"\")\n",
    "    current=start+1\n",
    "\n",
    "start = 1\n",
    "stop = 2\n",
    "current_num = stop\n",
    "for row in range(2,6):\n",
    "    for col in range(start, stop):\n",
    "        current_num -= 1\n",
    "        print(current_num, end=' ')\n",
    "    print(\"\")\n",
    "    start = stop\n",
    "    stop += row\n",
    "    current_num = stop\n",
    "    \n",
    "    "
   ]
  },
  {
   "cell_type": "code",
   "execution_count": 27,
   "id": "6ad5b099-4e24-463e-aa17-da5f099ea91e",
   "metadata": {},
   "outputs": [
    {
     "name": "stdout",
     "output_type": "stream",
     "text": [
      "  \n",
      "  \n",
      "  \n",
      "  \n",
      "  \n",
      "1 \n",
      "  \n",
      "  \n",
      "  \n",
      "  \n",
      "1 \n",
      "2 \n",
      "  \n",
      "  \n",
      "  \n",
      "1 \n",
      "2 \n",
      "3 \n",
      "  \n",
      "  \n",
      "1 \n",
      "2 \n",
      "3 \n",
      "4 \n",
      "  \n",
      "1 \n",
      "2 \n",
      "3 \n",
      "4 \n",
      "5 \n"
     ]
    }
   ],
   "source": [
    "#     1\n",
    "#    12\n",
    "#   123\n",
    "#  1234\n",
    "# 12345\n",
    "row=6\n",
    "for i in range(1,row):\n",
    "    num=1\n",
    "    for j in range(row,0,-1):\n",
    "        if j>i:\n",
    "            print(\" \",end=' ')\n",
    "        else:\n",
    "            print(num,end= ' ')\n",
    "            num+=1\n",
    "        print(\"\")"
   ]
  },
  {
   "cell_type": "code",
   "execution_count": 32,
   "id": "75e7ae51-a83e-4e1b-ba43-d91d0d903802",
   "metadata": {},
   "outputs": [
    {
     "name": "stdout",
     "output_type": "stream",
     "text": [
      "1\n",
      "24\n",
      "369\n",
      "481216\n",
      "510152025\n",
      "61218243036\n",
      "7142128354249\n",
      "816243240485664\n"
     ]
    }
   ],
   "source": [
    "#1\n",
    "#2 4\n",
    "#3 6 9\n",
    "#4 8 12 16\n",
    "#5 10 15 20 25\n",
    "#6 12 18 24 30 36 \n",
    "#7 14 21 28 35 42 49 \n",
    "#8 16 24 32 40 48 56 64\n",
    "row=9\n",
    "for i in range(1,row):\n",
    "    for j in range(1,i+1):\n",
    "        print(i*j,end='')\n",
    "    print()"
   ]
  },
  {
   "cell_type": "code",
   "execution_count": 35,
   "id": "07472287-ea0f-4bda-9b40-672838af1136",
   "metadata": {},
   "outputs": [
    {
     "name": "stdout",
     "output_type": "stream",
     "text": [
      "*\n",
      "**\n",
      "***\n",
      "****\n",
      "*****\n"
     ]
    }
   ],
   "source": [
    "#*\n",
    "#**\n",
    "#***\n",
    "#****\n",
    "#*****\n",
    "\n",
    "row=5\n",
    "for i in range(row):\n",
    "    for j in range(i+1):\n",
    "        print(\"*\",end='')\n",
    "    print(\"\\r\")\n"
   ]
  },
  {
   "cell_type": "code",
   "execution_count": 38,
   "id": "91523201-1522-4877-9d7c-169ccb39c561",
   "metadata": {},
   "outputs": [
    {
     "name": "stdout",
     "output_type": "stream",
     "text": [
      "*\n",
      "**\n",
      "***\n",
      "****\n",
      "*****\n"
     ]
    }
   ],
   "source": [
    "row=5\n",
    "for j in range(1,row+1):\n",
    "    print(\"*\"*j)"
   ]
  },
  {
   "cell_type": "code",
   "execution_count": 57,
   "id": "ce3c645a-53f5-4673-90b3-bbbe4013b4bd",
   "metadata": {},
   "outputs": [
    {
     "name": "stdout",
     "output_type": "stream",
     "text": [
      "        * \n",
      "      * * \n",
      "    * * * \n",
      "  * * * * \n",
      "* * * * * \n"
     ]
    }
   ],
   "source": [
    "# number of rows\n",
    "rows = 5\n",
    "k = 8\n",
    "for i in range(0, rows):\n",
    "    # process each column\n",
    "    for j in range(0, k):\n",
    "        # print space in pyramid\n",
    "        print(end=\" \")\n",
    "    k = k - 2\n",
    "    for j in range(0, i + 1):\n",
    "        # display star\n",
    "        print(\"* \", end=\"\")\n",
    "    print(\"\")\n"
   ]
  },
  {
   "cell_type": "code",
   "execution_count": 24,
   "id": "03dd36d5-54b2-466b-9e94-0a871b36e6d1",
   "metadata": {},
   "outputs": [
    {
     "name": "stdout",
     "output_type": "stream",
     "text": [
      "        * * * * * * \n",
      "         * * * * * \n",
      "          * * * * \n",
      "           * * * \n",
      "            * * \n",
      "             * \n"
     ]
    }
   ],
   "source": [
    "row = 5\n",
    "k = 2* row-2\n",
    "for i in range(row,-1,-1):\n",
    "    for j in range(k,0,-1):\n",
    "        print(end=' ')\n",
    "    k=k+1\n",
    "    for j in range(0, i + 1):\n",
    "        print(\"*\", end=\" \")\n",
    "    print(\"\")"
   ]
  },
  {
   "cell_type": "markdown",
   "id": "aa8ae652-fed6-45e5-9bad-52cab486431a",
   "metadata": {},
   "source": [
    "### Match"
   ]
  },
  {
   "cell_type": "code",
   "execution_count": 7,
   "id": "d909191d-78cf-4c4c-97ad-d5a8d80e0600",
   "metadata": {},
   "outputs": [
    {
     "name": "stdout",
     "output_type": "stream",
     "text": [
      "thursday\n"
     ]
    }
   ],
   "source": [
    "day=4\n",
    "match day:\n",
    " case 1:\n",
    "    print(\"Mondy\")\n",
    " case 2:\n",
    "    print(\"tuseday\")\n",
    " case 3:\n",
    "    print(\"wednesday\")\n",
    " case 4:\n",
    "    print(\"thursday\")\n",
    " case 5:\n",
    "    print(\"friday\")\n",
    " case 6:\n",
    "    print(\"saturday\")\n",
    " case 7: \n",
    "    print(\"sunday\")"
   ]
  },
  {
   "cell_type": "code",
   "execution_count": 8,
   "id": "14e7b263-ed53-4765-8ab0-4cd784978bd6",
   "metadata": {},
   "outputs": [
    {
     "name": "stdout",
     "output_type": "stream",
     "text": [
      "Looking forward to the weekend\n"
     ]
    }
   ],
   "source": [
    "day =4\n",
    "match day:\n",
    " case 6:\n",
    "     print(\"today is saturday\")\n",
    " case 7:\n",
    "     print(\"today is sunday\")\n",
    " case _:\n",
    "     print(\"Looking forward to the weekend\")\n",
    "     "
   ]
  },
  {
   "cell_type": "markdown",
   "id": "31b9cf3d-dac3-44ab-a7e5-e9a71ee5016c",
   "metadata": {},
   "source": [
    "## Function"
   ]
  },
  {
   "cell_type": "code",
   "execution_count": 10,
   "id": "5d960087-272f-457e-844d-e793171f9cf9",
   "metadata": {},
   "outputs": [
    {
     "name": "stdout",
     "output_type": "stream",
     "text": [
      "Emailrefsnes\n",
      "Tobiasrefsnes\n",
      "Linusrefsnes\n"
     ]
    }
   ],
   "source": [
    "def my_function(fname):\n",
    "    print(fname+\"refsnes\")\n",
    "my_function(\"Email\")\n",
    "my_function(\"Tobias\")\n",
    "my_function(\"Linus\")\n",
    "            "
   ]
  },
  {
   "cell_type": "code",
   "execution_count": 11,
   "id": "aa5c33d9-3e91-4d03-94e4-939464520c39",
   "metadata": {},
   "outputs": [
    {
     "name": "stdout",
     "output_type": "stream",
     "text": [
      "the youngest child isLinus\n"
     ]
    }
   ],
   "source": [
    "def my_function(*kids):\n",
    "    print(\"the youngest child is\"+kids[2])\n",
    "my_function(\"Email\",\"Tobias\",\"Linus\")"
   ]
  },
  {
   "cell_type": "markdown",
   "id": "1d3da0bb-fd57-4f5d-a1ab-291a32319aad",
   "metadata": {},
   "source": [
    "#### lamda"
   ]
  },
  {
   "cell_type": "code",
   "execution_count": 12,
   "id": "bb893256-021a-42c7-92e4-7f54aeb14789",
   "metadata": {},
   "outputs": [
    {
     "name": "stdout",
     "output_type": "stream",
     "text": [
      "15\n"
     ]
    }
   ],
   "source": [
    "x= lambda a: a + 10\n",
    "print(x(5))"
   ]
  },
  {
   "cell_type": "code",
   "execution_count": 13,
   "id": "930c65cf-63d7-46e2-826e-94dc53fd448f",
   "metadata": {},
   "outputs": [
    {
     "name": "stdout",
     "output_type": "stream",
     "text": [
      "30\n"
     ]
    }
   ],
   "source": [
    "x= lambda a, b: a*b\n",
    "print(x(5,6))"
   ]
  },
  {
   "cell_type": "code",
   "execution_count": 14,
   "id": "49a9d863-b180-43ba-9e6e-0de5cc994523",
   "metadata": {},
   "outputs": [
    {
     "name": "stdout",
     "output_type": "stream",
     "text": [
      "30\n"
     ]
    }
   ],
   "source": [
    "x= lambda a,b :a*b\n",
    "print(x(5,6))"
   ]
  },
  {
   "cell_type": "code",
   "execution_count": 15,
   "id": "63ab9e83-dc79-49ad-9a29-86079142674e",
   "metadata": {},
   "outputs": [
    {
     "name": "stdout",
     "output_type": "stream",
     "text": [
      "13\n"
     ]
    }
   ],
   "source": [
    "x= lambda a,b,c : a+b+c\n",
    "print(x(5,6,2))"
   ]
  },
  {
   "cell_type": "code",
   "execution_count": 17,
   "id": "c81acf61-49b4-472e-8c75-304560975629",
   "metadata": {},
   "outputs": [
    {
     "name": "stdout",
     "output_type": "stream",
     "text": [
      "22\n",
      "33\n"
     ]
    }
   ],
   "source": [
    "def my_function(n):\n",
    "    return lambda a: a*n\n",
    "mydoubler=my_function(2)\n",
    "mytripler=my_function(3)\n",
    "\n",
    "print(mydoubler(11))\n",
    "print(mytripler(11))"
   ]
  },
  {
   "cell_type": "markdown",
   "id": "f6878754-cb37-4a17-8cf2-58d4fdb6c4cb",
   "metadata": {},
   "source": [
    "### Class and Object"
   ]
  },
  {
   "cell_type": "code",
   "execution_count": 21,
   "id": "23cf338e-6f5e-452f-9017-f6bc4e781b2a",
   "metadata": {},
   "outputs": [
    {
     "name": "stdout",
     "output_type": "stream",
     "text": [
      "36\n"
     ]
    }
   ],
   "source": [
    "class Person:\n",
    "    def __init__(self,name,age):\n",
    "        self.name=name\n",
    "        self.age=age\n",
    "p1=Person(\"jhon\",36)\n",
    "print(p1.age)"
   ]
  },
  {
   "cell_type": "code",
   "execution_count": 25,
   "id": "0d1fec0c-2b61-4472-9756-45957f50f02d",
   "metadata": {},
   "outputs": [
    {
     "name": "stdout",
     "output_type": "stream",
     "text": [
      "hello my name isjhon\n"
     ]
    }
   ],
   "source": [
    "class Person:\n",
    "    def __init__(self,name,age):\n",
    "        self.name=name\n",
    "        self.age=age\n",
    "    def myfunct(self):\n",
    "        print(\"hello my name is\"+ self.name)\n",
    "p1=Person(\"jhon\" , 34)\n",
    "p1.myfunct()\n",
    "        "
   ]
  },
  {
   "cell_type": "code",
   "execution_count": 27,
   "id": "97849dd9-3936-4dd2-9e2f-68133f1400ca",
   "metadata": {},
   "outputs": [
    {
     "name": "stdout",
     "output_type": "stream",
     "text": [
      "jhon Doe\n"
     ]
    }
   ],
   "source": [
    "class Person:\n",
    "    def __init__(self,fname,lname):\n",
    "        self.firstname=fname\n",
    "        self.lastname=lname\n",
    "    def printname(self):\n",
    "        print(self.firstname,self.lastname)\n",
    "x= Person(\"jhon\",\"Doe\")\n",
    "x.printname()\n",
    "        "
   ]
  },
  {
   "cell_type": "code",
   "execution_count": 31,
   "id": "6b82e778-001a-4e31-9f1a-75a7556782c5",
   "metadata": {},
   "outputs": [
    {
     "name": "stdout",
     "output_type": "stream",
     "text": [
      "1\n",
      "2\n",
      "3\n",
      "4\n",
      "5\n",
      "6\n",
      "7\n",
      "8\n",
      "9\n",
      "10\n",
      "11\n",
      "12\n",
      "13\n",
      "14\n",
      "15\n",
      "16\n",
      "17\n",
      "18\n",
      "19\n",
      "20\n"
     ]
    }
   ],
   "source": [
    "class MyNumbers:\n",
    "  def __iter__(self):\n",
    "    self.a = 1\n",
    "    return self\n",
    "\n",
    "  def __next__(self):\n",
    "    if self.a <= 20:\n",
    "      x = self.a\n",
    "      self.a += 1\n",
    "      return x\n",
    "    else:\n",
    "      raise StopIteration\n",
    "\n",
    "myclass = MyNumbers()\n",
    "myiter = iter(myclass)\n",
    "\n",
    "for x in myiter:\n",
    "  print(x)"
   ]
  },
  {
   "cell_type": "markdown",
   "id": "e80a477a-9d08-4a64-b1c3-e717b2d5f331",
   "metadata": {},
   "source": [
    "##### Polymorphism"
   ]
  },
  {
   "cell_type": "code",
   "execution_count": 36,
   "id": "2427b1be-8a5a-426e-9abd-84abb4001ef3",
   "metadata": {},
   "outputs": [
    {
     "name": "stdout",
     "output_type": "stream",
     "text": [
      "Drive\n",
      "Sail!\n",
      "fly\n"
     ]
    }
   ],
   "source": [
    "class Car:\n",
    "    def __init__(self,brand,model):\n",
    "       self.brand=brand\n",
    "       self.model=model\n",
    "    def move(self):\n",
    "        print(\"Drive\")\n",
    "class Boat:\n",
    "  def __init__(self, brand, model):\n",
    "    self.brand = brand\n",
    "    self.model = model\n",
    "\n",
    "  def move(self):\n",
    "    print(\"Sail!\")\n",
    "class Plane:\n",
    "    def __init__(self,brand,model):\n",
    "        self.brand=brand\n",
    "        self.model=model\n",
    "    def move(self):\n",
    "        print(\"fly\")\n",
    "\n",
    "car1=Car(\"ford\",\"Mustang\")\n",
    "boat1=Boat(\"Ibiza\",\"Touring 20\")\n",
    "plan1=Plane(\"Boeing\",\"747\")\n",
    "\n",
    "for x in (car1,boat1,plan1):\n",
    "    x.move()\n"
   ]
  },
  {
   "cell_type": "code",
   "execution_count": 39,
   "id": "6f9003bf-f254-45b7-8860-54e56efc8e84",
   "metadata": {},
   "outputs": [
    {
     "name": "stdout",
     "output_type": "stream",
     "text": [
      "2025-05-04 21:17:39.707429\n"
     ]
    }
   ],
   "source": [
    "import datetime\n",
    "x=datetime.datetime.now()\n",
    "print (x)"
   ]
  },
  {
   "cell_type": "code",
   "execution_count": 40,
   "id": "3d239e58-aad2-4a4b-96b1-3cea3cea2d95",
   "metadata": {},
   "outputs": [
    {
     "name": "stdout",
     "output_type": "stream",
     "text": [
      "7.25\n"
     ]
    }
   ],
   "source": [
    "x= abs(-7.25)\n",
    "print(x)"
   ]
  },
  {
   "cell_type": "code",
   "execution_count": 41,
   "id": "8cd0a606-4e9e-43a3-a6b3-d4eb77e019f8",
   "metadata": {},
   "outputs": [
    {
     "name": "stdout",
     "output_type": "stream",
     "text": [
      "64\n"
     ]
    }
   ],
   "source": [
    "x= pow(4,3)\n",
    "print(x)"
   ]
  },
  {
   "cell_type": "code",
   "execution_count": 42,
   "id": "5f7193a6-a803-43cd-ba42-d9c12969337b",
   "metadata": {},
   "outputs": [
    {
     "name": "stdout",
     "output_type": "stream",
     "text": [
      "8.0\n"
     ]
    }
   ],
   "source": [
    "import math\n",
    "x= math.sqrt(64)\n",
    "print(x)"
   ]
  },
  {
   "cell_type": "code",
   "execution_count": 43,
   "id": "53f605d0-d294-4227-bb3c-a496219fb921",
   "metadata": {},
   "outputs": [
    {
     "name": "stdout",
     "output_type": "stream",
     "text": [
      "2\n",
      "1\n"
     ]
    }
   ],
   "source": [
    "import math\n",
    "x= math.ceil(1.4)\n",
    "y=math.floor(1.4)\n",
    "print(x)\n",
    "print(y)"
   ]
  },
  {
   "cell_type": "markdown",
   "id": "446f0d0b-8405-4b08-8ef5-a04ad8d522ac",
   "metadata": {},
   "source": [
    "### Exception handling"
   ]
  },
  {
   "cell_type": "code",
   "execution_count": 44,
   "id": "d6ee694f-51e8-4c2f-8449-d020de374940",
   "metadata": {},
   "outputs": [
    {
     "name": "stdout",
     "output_type": "stream",
     "text": [
      "2\n"
     ]
    }
   ],
   "source": [
    "try:\n",
    "    print(x)\n",
    "except NameError:\n",
    "    print(\"variale x is not defined\")\n",
    "except:\n",
    "    print(\"something else went wrong\")"
   ]
  },
  {
   "cell_type": "code",
   "execution_count": 45,
   "id": "736da987-ff87-4b2a-92ea-9659f000e664",
   "metadata": {},
   "outputs": [
    {
     "name": "stdout",
     "output_type": "stream",
     "text": [
      "Hello\n",
      "Nothing went wrong\n"
     ]
    }
   ],
   "source": [
    "try:\n",
    "    print(\"Hello\")\n",
    "except:\n",
    "    print(\"somrthing went wrong\")\n",
    "else:\n",
    "    print(\"Nothing went wrong\")"
   ]
  },
  {
   "cell_type": "code",
   "execution_count": 2,
   "id": "047f50a8-e9f3-4685-bffb-8ed5a88766aa",
   "metadata": {},
   "outputs": [
    {
     "name": "stdout",
     "output_type": "stream",
     "text": [
      "3.0\n"
     ]
    }
   ],
   "source": [
    "print ((3**3)/(3**2))\n"
   ]
  },
  {
   "cell_type": "code",
   "execution_count": 10,
   "id": "8c196df6-60af-42d9-a3a9-70693f23411d",
   "metadata": {},
   "outputs": [
    {
     "name": "stdout",
     "output_type": "stream",
     "text": [
      "{'brand': 'car', 'year': 2078}\n",
      "brand car\n",
      "year 2078\n"
     ]
    }
   ],
   "source": [
    "mydict={\n",
    "    \"brand\":\"car\",\n",
    "    \"year\":2078\n",
    "}\n",
    "print(mydict)\n",
    "for x in mydict:\n",
    "    print (x,mydict[x])\n"
   ]
  },
  {
   "cell_type": "code",
   "execution_count": 11,
   "id": "129dd5d2-2722-4d5a-aae2-8cf50c4be2ea",
   "metadata": {},
   "outputs": [],
   "source": [
    "import tkinter as tk\n",
    "from tkinter import messagebox\n",
    "\n",
    "def submit_form():\n",
    "    username = entry_username.get()\n",
    "    email = entry_email.get()\n",
    "    gender = gender_var.get()\n",
    "    hobbies = []\n",
    "    if hobby_reading.get(): hobbies.append(\"Reading\")\n",
    "    if hobby_traveling.get(): hobbies.append(\"Traveling\")\n",
    "    if hobby_sports.get(): hobbies.append(\"Sports\")\n",
    "    country = country_var.get()\n",
    "\n",
    "    if not username or not email:\n",
    "        messagebox.showwarning(\"Input Error\", \"Please fill in all required fields.\")\n",
    "        return\n",
    "\n",
    "    info = f\"\"\"\n",
    "Username: {username}\n",
    "Email: {email}\n",
    "Gender: {gender}\n",
    "Hobbies: {', '.join(hobbies)}\n",
    "Country: {country}\n",
    "\"\"\"\n",
    "    messagebox.showinfo(\"Form Submitted\", info)\n",
    "\n",
    "# Main window\n",
    "root = tk.Tk()\n",
    "root.title(\"Complete Form\")\n",
    "root.geometry(\"400x400\")\n",
    "\n",
    "# Username\n",
    "tk.Label(root, text=\"Username:\").pack(anchor=\"w\", padx=10, pady=5)\n",
    "entry_username = tk.Entry(root, width=30)\n",
    "entry_username.pack(padx=10)\n",
    "\n",
    "# Email\n",
    "tk.Label(root, text=\"Email:\").pack(anchor=\"w\", padx=10, pady=5)\n",
    "entry_email = tk.Entry(root, width=30)\n",
    "entry_email.pack(padx=10)\n",
    "\n",
    "# Gender Radio Buttons\n",
    "tk.Label(root, text=\"Gender:\").pack(anchor=\"w\", padx=10, pady=5)\n",
    "gender_var = tk.StringVar(value=\"Male\")\n",
    "tk.Radiobutton(root, text=\"Male\", variable=gender_var, value=\"Male\").pack(anchor=\"w\", padx=20)\n",
    "tk.Radiobutton(root, text=\"Female\", variable=gender_var, value=\"Female\").pack(anchor=\"w\", padx=20)\n",
    "tk.Radiobutton(root, text=\"Other\", variable=gender_var, value=\"Other\").pack(anchor=\"w\", padx=20)\n",
    "\n",
    "# Hobbies Checkboxes\n",
    "tk.Label(root, text=\"Hobbies:\").pack(anchor=\"w\", padx=10, pady=5)\n",
    "hobby_reading = tk.BooleanVar()\n",
    "hobby_traveling = tk.BooleanVar()\n",
    "hobby_sports = tk.BooleanVar()\n",
    "tk.Checkbutton(root, text=\"Reading\", variable=hobby_reading).pack(anchor=\"w\", padx=20)\n",
    "tk.Checkbutton(root, text=\"Traveling\", variable=hobby_traveling).pack(anchor=\"w\", padx=20)\n",
    "tk.Checkbutton(root, text=\"Sports\", variable=hobby_sports).pack(anchor=\"w\", padx=20)\n",
    "\n",
    "# Country Dropdown\n",
    "tk.Label(root, text=\"Country:\").pack(anchor=\"w\", padx=10, pady=5)\n",
    "country_var = tk.StringVar(value=\"Select Country\")\n",
    "country_options = [\"Nepal\", \"India\", \"USA\", \"UK\", \"Canada\"]\n",
    "tk.OptionMenu(root, country_var, *country_options).pack(padx=10)\n",
    "\n",
    "# Submit Button\n",
    "tk.Button(root, text=\"Submit\", command=submit_form).pack(pady=20)\n",
    "\n",
    "root.mainloop()\n"
   ]
  },
  {
   "cell_type": "code",
   "execution_count": 25,
   "id": "03c453a9-e12e-4673-a7f0-11e8485652f6",
   "metadata": {},
   "outputs": [
    {
     "name": "stdout",
     "output_type": "stream",
     "text": [
      "        * \n",
      "       * * \n",
      "      * * * \n",
      "     * * * * \n",
      "    * * * * * \n"
     ]
    }
   ],
   "source": [
    "rows = 5\n",
    "k = 2 * rows - 2\n",
    "for i in range(0, rows):\n",
    "    for j in range(0, k):\n",
    "        print(end=\" \")\n",
    "    k = k - 1\n",
    "    for j in range(0, i + 1):\n",
    "        print(\"* \", end=\"\")\n",
    "    print(\"\")"
   ]
  },
  {
   "cell_type": "code",
   "execution_count": null,
   "id": "be4761bd-2ca7-4ee4-b605-78d03f6545d8",
   "metadata": {},
   "outputs": [],
   "source": []
  }
 ],
 "metadata": {
  "kernelspec": {
   "display_name": "Python 3 (ipykernel)",
   "language": "python",
   "name": "python3"
  },
  "language_info": {
   "codemirror_mode": {
    "name": "ipython",
    "version": 3
   },
   "file_extension": ".py",
   "mimetype": "text/x-python",
   "name": "python",
   "nbconvert_exporter": "python",
   "pygments_lexer": "ipython3",
   "version": "3.13.1"
  }
 },
 "nbformat": 4,
 "nbformat_minor": 5
}
