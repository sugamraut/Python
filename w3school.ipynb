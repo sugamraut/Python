{
 "cells": [
  {
   "cell_type": "code",
   "execution_count": 7,
   "id": "281a1f65-037c-4fdf-9f08-804aee267e9a",
   "metadata": {},
   "outputs": [
    {
     "name": "stdout",
     "output_type": "stream",
     "text": [
      "5\n",
      "jhone\n",
      "<class 'int'>\n",
      "<class 'str'>\n",
      "5\n",
      "6\n"
     ]
    }
   ],
   "source": [
    "# carting\n",
    "x=5\n",
    "y= \"jhone\"\n",
    "print(x)\n",
    "print(y)\n",
    "print(type(x))\n",
    "print(type(y))\n",
    "a=5\n",
    "A=6\n",
    "print(a)\n",
    "print(A)\n",
    "\n"
   ]
  },
  {
   "cell_type": "code",
   "execution_count": 8,
   "id": "f3529524-2044-4bb5-a607-852b301032e9",
   "metadata": {},
   "outputs": [
    {
     "name": "stdout",
     "output_type": "stream",
     "text": [
      "orange\n",
      "Banaana\n",
      "cherry\n"
     ]
    }
   ],
   "source": [
    "#Assign Multiple value\n",
    "x,y,z = \"orange\",\"Banaana\",\"cherry\"\n",
    "print(x)\n",
    "print(y)\n",
    "print(z)"
   ]
  },
  {
   "cell_type": "code",
   "execution_count": 9,
   "id": "76cbe7e2-07b0-4dc9-ab71-124de8fabfc2",
   "metadata": {},
   "outputs": [
    {
     "name": "stdout",
     "output_type": "stream",
     "text": [
      "Orange\n",
      "Orange\n",
      "Orange\n"
     ]
    }
   ],
   "source": [
    "# One valye to multiple variables\n",
    "x=y=z=\"Orange\"\n",
    "print(x)\n",
    "print(y)\n",
    "print(z)"
   ]
  },
  {
   "cell_type": "code",
   "execution_count": 16,
   "id": "e9d67299-3ee7-41bc-8791-e857d8ca33a7",
   "metadata": {},
   "outputs": [
    {
     "name": "stdout",
     "output_type": "stream",
     "text": [
      "pythonisawsome\n"
     ]
    }
   ],
   "source": [
    "# + operater\n",
    "x=\"python\"\n",
    "y=\"is\"\n",
    "z= \"awsome\"\n",
    "\n",
    "print(x +y+ z)\n"
   ]
  },
  {
   "cell_type": "code",
   "execution_count": 17,
   "id": "ff574107-6cec-464f-bfe8-d8e390742974",
   "metadata": {},
   "outputs": [
    {
     "name": "stdout",
     "output_type": "stream",
     "text": [
      "30\n",
      "40\n"
     ]
    }
   ],
   "source": [
    "# GLobal varible\n",
    "x=30\n",
    "def foo():\n",
    "    global x\n",
    "    x=40\n",
    "print (x)\n",
    "foo()\n",
    "print(x)"
   ]
  },
  {
   "cell_type": "code",
   "execution_count": 18,
   "id": "2f159312-2e66-47d2-8257-fe66bc51ec16",
   "metadata": {},
   "outputs": [],
   "source": [
    "x=memoryview(bytes(5))"
   ]
  },
  {
   "cell_type": "code",
   "execution_count": 19,
   "id": "c269a0da-6571-4506-b6a7-10fb74cac3fb",
   "metadata": {},
   "outputs": [
    {
     "name": "stdout",
     "output_type": "stream",
     "text": [
      "<class 'int'>\n",
      "<class 'float'>\n",
      "<class 'complex'>\n"
     ]
    }
   ],
   "source": [
    "x=1\n",
    "y=2.8\n",
    "z=1J\n",
    "print(type(x))\n",
    "print(type(y))\n",
    "print(type(z))\n",
    "      "
   ]
  },
  {
   "cell_type": "code",
   "execution_count": 21,
   "id": "77294dd0-6104-4f21-bf77-7ccdcaa03cd3",
   "metadata": {},
   "outputs": [
    {
     "name": "stdout",
     "output_type": "stream",
     "text": [
      "1.0\n",
      "2\n",
      "(1+0j)\n",
      "<class 'float'>\n",
      "<class 'int'>\n",
      "<class 'complex'>\n",
      "11\n"
     ]
    }
   ],
   "source": [
    "#type conversion\n",
    "x=1\n",
    "y=2.7\n",
    "z=1j\n",
    "a=float(x)\n",
    "b=int(y)\n",
    "c=complex(x)\n",
    "print(a)\n",
    "print(b)\n",
    "print(c)\n",
    "\n",
    "print(type(a))\n",
    "print(type(b))\n",
    "print(type(c))\n",
    "\n",
    "#Random Number\n",
    "import random\n",
    "print (random.randrange(1,20))"
   ]
  },
  {
   "cell_type": "markdown",
   "id": "1f8e249b-f867-47cc-8d63-7fbbdbb6c39a",
   "metadata": {},
   "source": [
    "## string"
   ]
  },
  {
   "cell_type": "code",
   "execution_count": 26,
   "id": "bc5a66d7-c540-4f3a-9083-aaca33417fff",
   "metadata": {},
   "outputs": [
    {
     "name": "stdout",
     "output_type": "stream",
     "text": [
      "11\n",
      "True\n",
      "llo\n",
      "hello\n",
      "llo world\n",
      "wo\n"
     ]
    }
   ],
   "source": [
    "#pnrint length\n",
    "a= \"hello world\"\n",
    "print (len(a))\n",
    "\n",
    "txt=\"the best things in life are free!!\"\n",
    "print(\"free\" in txt)\n",
    "\n",
    "# Slicing\n",
    "\n",
    "b=\"hello world\"\n",
    "print(b[2:5])\n",
    "print (b[:5])\n",
    "print(b[2:])\n",
    "print(b[-5:-3])"
   ]
  },
  {
   "cell_type": "markdown",
   "id": "1acd17ce-e56f-4734-81a4-9e2f0a44611b",
   "metadata": {},
   "source": [
    "### string Modify\n"
   ]
  },
  {
   "cell_type": "code",
   "execution_count": 34,
   "id": "2b945330-cf67-4917-b428-65945e59d89c",
   "metadata": {},
   "outputs": [
    {
     "name": "stdout",
     "output_type": "stream",
     "text": [
      "HELLO ,WORLD\n",
      "hello ,world\n",
      "hello, world!\n",
      "replace world\tjello ,world\n"
     ]
    }
   ],
   "source": [
    "a= \"hello ,world\"\n",
    "print (a.upper())\n",
    "print( a.lower())\n",
    "b=\"hello, world!\"\n",
    "print(b.strip())\n",
    "print (\"replace world\\t\"+a.replace(\"h\",\"j\"))\n"
   ]
  },
  {
   "cell_type": "code",
   "execution_count": 36,
   "id": "889e4111-f991-4258-9612-1ee61daca584",
   "metadata": {},
   "outputs": [
    {
     "name": "stdout",
     "output_type": "stream",
     "text": [
      "hello world\n"
     ]
    }
   ],
   "source": [
    "#concetation \n",
    "a=\"hello\"\n",
    "b=\"world\"\n",
    "c=a+\" \"+b\n",
    "print(c)"
   ]
  },
  {
   "cell_type": "markdown",
   "id": "1f8503d5-673b-4357-b65c-e3d4f6e0390b",
   "metadata": {},
   "source": [
    "### F-String"
   ]
  },
  {
   "cell_type": "code",
   "execution_count": 40,
   "id": "3f0d5dee-da03-41ce-a15c-dd0e3a2fde77",
   "metadata": {},
   "outputs": [
    {
     "name": "stdout",
     "output_type": "stream",
     "text": [
      "My name is jhone,I am 36\n",
      "this price is 36.00 dollars\n"
     ]
    }
   ],
   "source": [
    "age=36\n",
    "txt =f\"My name is jhone,I am {age}\"\n",
    "print (txt)\n",
    "hi= f\"this price is {age:.2f} dollars\"\n",
    "print (hi)"
   ]
  },
  {
   "cell_type": "code",
   "execution_count": 3,
   "id": "d50c68c6-d2f0-4dd4-b34e-d6559aa52217",
   "metadata": {},
   "outputs": [
    {
     "name": "stdout",
     "output_type": "stream",
     "text": [
      "True\n",
      "False\n",
      "False\n",
      "b is not greater than a\n",
      "True\n",
      "True\n"
     ]
    }
   ],
   "source": [
    "#Boolean values\n",
    "print (10>9)\n",
    "print(10==9)\n",
    "print(10<9)\n",
    "\n",
    "a=200\n",
    "b=33\n",
    "\n",
    "if b>a:\n",
    "    print(\"b is greater than a\")\n",
    "else:\n",
    "    print(\"b is not greater than a\")\n",
    "\n",
    "print (bool(\"hello\"))\n",
    "print(bool(15))"
   ]
  },
  {
   "cell_type": "markdown",
   "id": "8abae9c2-bffb-41e5-bf7b-7711c779d921",
   "metadata": {},
   "source": [
    "### python List"
   ]
  },
  {
   "cell_type": "code",
   "execution_count": 8,
   "id": "5aef8f9f-e19e-4eb1-b091-ce8a084ddcf1",
   "metadata": {},
   "outputs": [
    {
     "name": "stdout",
     "output_type": "stream",
     "text": [
      "['apple', 'banana', 'cheery', 'kiwi', 'melon', 'mango']\n",
      "6\n",
      "banana\n",
      "['cheery', 'kiwi', 'melon']\n"
     ]
    }
   ],
   "source": [
    "mylist =[\"apple\",\"banana\",\"cheery\",\"kiwi\",\"melon\",\"mango\"]\n",
    "print(mylist)\n",
    "print(len(mylist))\n",
    "print(mylist[1])\n",
    "print(mylist[2:5])"
   ]
  },
  {
   "cell_type": "markdown",
   "id": "04568411-841a-443c-83c0-38a3f3335c2b",
   "metadata": {},
   "source": [
    "#### Change item value"
   ]
  },
  {
   "cell_type": "code",
   "execution_count": 17,
   "id": "305e3b7e-382a-49f5-8487-ac8e102a2db0",
   "metadata": {},
   "outputs": [
    {
     "name": "stdout",
     "output_type": "stream",
     "text": [
      "['apple', 'cherry', 'orange', 'kiwi', 'mango', 'orange', 'mango', 'pineapple', 'papaya']\n"
     ]
    }
   ],
   "source": [
    "thislist=[\"apple\",\"banana\",\"cherry\",\"orange\",\"kiwi\",\"mango\"]\n",
    "tropical = [\"mango\", \"pineapple\", \"papaya\"]\n",
    "#thislist[1:3]=\"blackcurrant\"\n",
    "thislist.append(\"orange\")\n",
    "thislist.extend(tropical)\n",
    "thislist.pop(1)\n",
    "#thislist[1:3]=[\"hello\",\"watermelon\"]\n",
    "print(thislist)"
   ]
  },
  {
   "cell_type": "code",
   "execution_count": 18,
   "id": "33cd6ac7-1f9c-4b55-bc1a-6cc38cb73b3e",
   "metadata": {},
   "outputs": [
    {
     "name": "stdout",
     "output_type": "stream",
     "text": [
      "apple\n",
      "banana\n",
      "cherry\n"
     ]
    }
   ],
   "source": [
    "thislist=[\"apple\",\"banana\",\"cherry\"]\n",
    "i=0\n",
    "while i <len(thislist):\n",
    "    print(thislist[i])\n",
    "    i=i+1"
   ]
  },
  {
   "cell_type": "code",
   "execution_count": 19,
   "id": "fae4e0e1-4cd1-43d7-b645-da91950b470d",
   "metadata": {},
   "outputs": [
    {
     "name": "stdout",
     "output_type": "stream",
     "text": [
      "['apple', 'banana', 'mango']\n"
     ]
    }
   ],
   "source": [
    "fruits = [\"apple\", \"banana\", \"cherry\", \"kiwi\", \"mango\"]\n",
    "newlist = []\n",
    "\n",
    "for x in fruits:\n",
    "  if \"a\" in x:\n",
    "    newlist.append(x)\n",
    "\n",
    "print(newlist)"
   ]
  },
  {
   "cell_type": "code",
   "execution_count": 20,
   "id": "8c783ab7-c3e9-4f75-bcb5-a5dfaf11d876",
   "metadata": {},
   "outputs": [
    {
     "name": "stdout",
     "output_type": "stream",
     "text": [
      "[50, 65, 23, 82, 100]\n"
     ]
    }
   ],
   "source": [
    "def myfunc(n):\n",
    "  return abs(n - 50)\n",
    "\n",
    "thislist = [100, 50, 65, 82, 23]\n",
    "thislist.sort(key = myfunc)\n",
    "print(thislist)"
   ]
  },
  {
   "cell_type": "code",
   "execution_count": 25,
   "id": "7118eefc-a264-4cb2-9b60-c1215c9a2853",
   "metadata": {},
   "outputs": [
    {
     "name": "stdout",
     "output_type": "stream",
     "text": [
      "['a', 'b', 'c', 1, 2, 3]\n"
     ]
    }
   ],
   "source": [
    "list1 = [\"a\", \"b\", \"c\"]\n",
    "list2 = [1, 2, 3]\n",
    "\n",
    "list3 = list1+list2\n",
    "print(list3)\n"
   ]
  },
  {
   "cell_type": "code",
   "execution_count": null,
   "id": "9a5088da-312e-4e84-bd8d-fbced10d57b9",
   "metadata": {},
   "outputs": [],
   "source": []
  }
 ],
 "metadata": {
  "kernelspec": {
   "display_name": "Python 3 (ipykernel)",
   "language": "python",
   "name": "python3"
  },
  "language_info": {
   "codemirror_mode": {
    "name": "ipython",
    "version": 3
   },
   "file_extension": ".py",
   "mimetype": "text/x-python",
   "name": "python",
   "nbconvert_exporter": "python",
   "pygments_lexer": "ipython3",
   "version": "3.13.1"
  }
 },
 "nbformat": 4,
 "nbformat_minor": 5
}
